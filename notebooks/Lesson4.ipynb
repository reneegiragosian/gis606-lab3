{
 "cells": [
  {
   "cell_type": "code",
   "execution_count": 1,
   "metadata": {},
   "outputs": [
    {
     "name": "stdout",
     "output_type": "stream",
     "text": [
      "The CRS of this data is: EPSG:32613\n",
      "['29188', '26733', '24600', '32189', '4899', '29189', '26734', '7402', '26951', '29190']\n",
      "+proj=utm +zone=13 +datum=WGS84 +units=m +no_defs\n"
     ]
    },
    {
     "data": {
      "text/plain": [
       "(1.0, -1.0)"
      ]
     },
     "execution_count": 1,
     "metadata": {},
     "output_type": "execute_result"
    }
   ],
   "source": [
    "# Import necessary packages\n",
    "import os\n",
    "\n",
    "import matplotlib.pyplot as plt\n",
    "import rioxarray as rxr\n",
    "import earthpy as et\n",
    "\n",
    "# Get data and set working directory\n",
    "et.data.get_data(\"colorado-flood\")\n",
    "os.chdir(os.path.join(et.io.HOME,\n",
    "                      'earth-analytics',\n",
    "                      'data'))\n",
    "\n",
    "# Define relative path to file\n",
    "lidar_dem_path = os.path.join(\"colorado-flood\",\n",
    "                              \"spatial\",\n",
    "                              \"boulder-leehill-rd\",\n",
    "                              \"pre-flood\",\n",
    "                              \"lidar\",\n",
    "                              \"pre_DTM.tif\")\n",
    "\n",
    "# View crs of raster imported with rasterio\n",
    "lidar_dem = rxr.open_rasterio(lidar_dem_path, masked=True)\n",
    "print(\"The CRS of this data is:\", lidar_dem.rio.crs)\n",
    "a_crs = lidar_dem.rio.crs\n",
    "\n",
    "# Assign crs to myCRS object - this is just an example of how you would do that\n",
    "lidar_dem = lidar_dem.rio.set_crs(a_crs, inplace=True)\n",
    "# Each key of the dictionary is an EPSG code\n",
    "print(list(et.epsg.keys())[:10])\n",
    "\n",
    "# Convert to project string using earthpy\n",
    "proj4 = et.epsg['32613']\n",
    "print(proj4)\n",
    "\n",
    "lidar_dem.rio.bounds()\n",
    "\n",
    "# What is the x and y resolution for your raster data?\n",
    "lidar_dem.rio.resolution()\n"
   ]
  }
 ],
 "metadata": {
  "kernelspec": {
   "display_name": "Python 3",
   "language": "python",
   "name": "python3"
  },
  "language_info": {
   "codemirror_mode": {
    "name": "ipython",
    "version": 3
   },
   "file_extension": ".py",
   "mimetype": "text/x-python",
   "name": "python",
   "nbconvert_exporter": "python",
   "pygments_lexer": "ipython3",
   "version": "3.10.13"
  }
 },
 "nbformat": 4,
 "nbformat_minor": 2
}
